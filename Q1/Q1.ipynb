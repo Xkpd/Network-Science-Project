{
 "cells": [
  {
   "cell_type": "code",
   "execution_count": null,
   "id": "89d8cfa7",
   "metadata": {},
   "outputs": [],
   "source": [
    "import pandas as pd\n",
    "import networkx as nx\n",
    "import matplotlib.pyplot as plt\n",
    "from itertools import combinations\n",
    "import numpy as np\n",
    "from networkx.algorithms.community import greedy_modularity_communities"
   ]
  },
  {
   "cell_type": "code",
   "execution_count": null,
   "id": "2767b403",
   "metadata": {},
   "outputs": [],
   "source": [
    "# ============== Load data ==============\n",
    "scientists_df = pd.read_csv('./output/scientists_cleaned.csv')\n",
    "papers_df = pd.read_csv('./output/papers_cleaned.csv')"
   ]
  },
  {
   "cell_type": "code",
   "execution_count": null,
   "id": "25e037a0",
   "metadata": {
    "lines_to_next_cell": 1
   },
   "outputs": [],
   "source": [
    "# ============== Normalize names ==============\n",
    "input_names = set(scientists_df['name'].str.lower().str.strip())"
   ]
  },
  {
   "cell_type": "code",
   "execution_count": null,
   "id": "7e11c770",
   "metadata": {
    "lines_to_next_cell": 1
   },
   "outputs": [],
   "source": [
    "# ============== Filter valid authors in papers ==============\n",
    "def filter_authors(authors):\n",
    "    try:\n",
    "        authors = [a.lower().strip() for a in authors.split(',')]  # Handle comma-separated string\n",
    "        return [a for a in authors if a in input_names]\n",
    "    except Exception as e:\n",
    "        print(f\"Error processing authors: {e}\")\n",
    "        return []"
   ]
  },
  {
   "cell_type": "code",
   "execution_count": null,
   "id": "096e93de",
   "metadata": {},
   "outputs": [],
   "source": [
    "papers_df['valid_authors'] = papers_df['Authors'].apply(filter_authors)\n",
    "print(papers_df[['Title', 'valid_authors']].head())\n",
    "papers_df = papers_df[papers_df['valid_authors'].apply(len) >= 2]"
   ]
  },
  {
   "cell_type": "code",
   "execution_count": null,
   "id": "452d66d2",
   "metadata": {},
   "outputs": [],
   "source": [
    "# ============== Build graph ==============\n",
    "G = nx.Graph()\n",
    "G.add_nodes_from(input_names)"
   ]
  },
  {
   "cell_type": "code",
   "execution_count": null,
   "id": "14645be0",
   "metadata": {},
   "outputs": [],
   "source": [
    "for _, row in papers_df.iterrows():\n",
    "    for a1, a2 in combinations(row['valid_authors'], 2):\n",
    "        if G.has_edge(a1, a2):\n",
    "            G[a1][a2]['weight'] += 1\n",
    "        else:\n",
    "            G.add_edge(a1, a2, weight=1)"
   ]
  },
  {
   "cell_type": "code",
   "execution_count": null,
   "id": "edba4ad5",
   "metadata": {},
   "outputs": [],
   "source": [
    "# ============== Network properties ==============\n",
    "print(\"=== Network Properties ===\")\n",
    "print(f\"Total Nodes (in input list): {G.number_of_nodes()}\")\n",
    "print(f\"Total Edges: {G.number_of_edges()}\")\n",
    "print(f\"Average Degree: {np.mean([deg for _, deg in G.degree()]):.2f}\")\n",
    "print(f\"Network Density: {nx.density(G):.4f}\")\n",
    "print(f\"Number of Connected Components: {nx.number_connected_components(G)}\")\n",
    "print(f\"Average Clustering Coefficient: {nx.average_clustering(G):.4f}\")"
   ]
  },
  {
   "cell_type": "code",
   "execution_count": null,
   "id": "d90f3872",
   "metadata": {},
   "outputs": [],
   "source": [
    "# ============== Figure 1: Degree Distribution ==============\n",
    "degrees = [deg for node, deg in G.degree()]\n",
    "plt.figure(figsize=(8, 6))\n",
    "plt.hist(degrees, bins=50, color='skyblue', edgecolor='black')\n",
    "plt.title(\"Figure 1: Degree Distribution of the Collaboration Network\")\n",
    "plt.xlabel(\"Degree\")\n",
    "plt.ylabel(\"Frequency\")\n",
    "plt.grid(True)\n",
    "plt.tight_layout()\n",
    "plt.savefig(\"output/Q1_Output/figure1_degree_distribution.png\")\n",
    "plt.close()"
   ]
  },
  {
   "cell_type": "code",
   "execution_count": null,
   "id": "3b71c2ec",
   "metadata": {},
   "outputs": [],
   "source": [
    "# ============== Figure 2: Giant Component ==============\n",
    "giant_component = max(nx.connected_components(G), key=len)\n",
    "G_giant = G.subgraph(giant_component)"
   ]
  },
  {
   "cell_type": "code",
   "execution_count": null,
   "id": "1d3f92d8",
   "metadata": {},
   "outputs": [],
   "source": [
    "print(\"\\n=== Giant Component Properties ===\")\n",
    "print(f\"Nodes in Giant Component: {G_giant.number_of_nodes()}\")\n",
    "print(f\"Edges in Giant Component: {G_giant.number_of_edges()}\")\n",
    "if nx.is_connected(G_giant):\n",
    "    print(f\"Diameter: {nx.diameter(G_giant)}\")\n",
    "    print(f\"Average Shortest Path Length: {nx.average_shortest_path_length(G_giant):.2f}\")\n",
    "else:\n",
    "    print(\"Giant component is not fully connected (unexpected).\")\n",
    "# Find isolated nodes (nodes that are not in the giant component)\n",
    "isolated_nodes = list(set(G.nodes()) - set(giant_component))\n",
    "print(f\"Number of Isolated Nodes: {len(isolated_nodes)}\")"
   ]
  },
  {
   "cell_type": "code",
   "execution_count": null,
   "id": "03e4af6a",
   "metadata": {},
   "outputs": [],
   "source": [
    "plt.figure(figsize=(12, 10))\n",
    "pos = nx.spring_layout(G_giant, seed=42)\n",
    "nx.draw(G_giant, pos, node_size=20, edge_color='gray', node_color='skyblue', with_labels=False)\n",
    "plt.title(f\"Figure 2: Giant Component ({G_giant.number_of_nodes()} nodes, {G_giant.number_of_edges()} edges)\")\n",
    "plt.tight_layout()\n",
    "plt.savefig(\"output/Q1_Output/figure2_giant_component.png\")\n",
    "plt.close()"
   ]
  },
  {
   "cell_type": "code",
   "execution_count": null,
   "id": "bbbb8053",
   "metadata": {},
   "outputs": [],
   "source": [
    "# ============== Figure 3: Largest Clique ==============\n",
    "cliques = list(nx.find_cliques(G))\n",
    "largest_clique = max(cliques, key=len)\n",
    "G_clique = G.subgraph(largest_clique)"
   ]
  },
  {
   "cell_type": "code",
   "execution_count": null,
   "id": "9564de86",
   "metadata": {},
   "outputs": [],
   "source": [
    "plt.figure(figsize=(8, 6))\n",
    "pos = nx.spring_layout(G_clique, seed=42)  # Changed layout for better visualization\n",
    "nx.draw(G_clique, pos, with_labels=True, node_color='orange', edge_color='black', node_size=300, font_size=8)\n",
    "plt.title(f\"Figure 3: Largest Clique in the Network (n={len(largest_clique)})\")\n",
    "plt.tight_layout()\n",
    "plt.savefig(\"output/Q1_Output/figure3_largest_clique.png\")\n",
    "plt.close()"
   ]
  },
  {
   "cell_type": "code",
   "execution_count": null,
   "id": "c3961c71",
   "metadata": {},
   "outputs": [],
   "source": [
    "#============== Figure 4: Degree Centrality vs Degree ==============\n",
    "degree_centrality = nx.degree_centrality(G)\n",
    "degrees_dict = dict(G.degree())\n",
    "x = list(degrees_dict.values())\n",
    "y = [degree_centrality[node] for node in degrees_dict]"
   ]
  },
  {
   "cell_type": "code",
   "execution_count": null,
   "id": "3f310683",
   "metadata": {},
   "outputs": [],
   "source": [
    "plt.figure(figsize=(8, 6))\n",
    "plt.scatter(x, y, color='green', alpha=0.6)\n",
    "plt.title(\"Figure 4: Degree Centrality vs Degree\")\n",
    "plt.xlabel(\"Degree\")\n",
    "plt.ylabel(\"Degree Centrality\")\n",
    "plt.grid(True)\n",
    "plt.tight_layout()\n",
    "plt.savefig(\"output/Q1_Output/figure4_degree_vs_centrality.png\")\n",
    "plt.close()"
   ]
  },
  {
   "cell_type": "code",
   "execution_count": null,
   "id": "c2b5e22d",
   "metadata": {},
   "outputs": [],
   "source": [
    "# ============== Figure 5: Degree Centrality vs Betweenness Centrality  ==============\n",
    "betweenness_centrality = nx.betweenness_centrality(G)\n",
    "x = [degree_centrality[node] for node in G.nodes()]\n",
    "y = [betweenness_centrality[node] for node in G.nodes()]"
   ]
  },
  {
   "cell_type": "code",
   "execution_count": null,
   "id": "de5ffe53",
   "metadata": {},
   "outputs": [],
   "source": [
    "plt.figure(figsize=(8, 6))\n",
    "plt.scatter(x, y, color='purple', alpha=0.6)\n",
    "plt.title(\"Figure 5: Degree Centrality vs Betweenness Centrality\")\n",
    "plt.xlabel(\"Degree Centrality\")\n",
    "plt.ylabel(\"Betweenness Centrality\")\n",
    "plt.grid(True)\n",
    "plt.tight_layout()\n",
    "plt.savefig(\"output/Q1_Output/figure5_degree_vs_betweenness.png\")\n",
    "plt.close()"
   ]
  },
  {
   "cell_type": "code",
   "execution_count": null,
   "id": "32e152e9",
   "metadata": {},
   "outputs": [],
   "source": [
    "# ============ Top 10 Most Central Scientists  ==============\n",
    "top_betweenness = sorted(betweenness_centrality.items(), key=lambda x: x[1], reverse=True)[:10]\n",
    "print(\"\\n=== Top 10 Most Central Scientists (Betweenness Centrality) ===\")\n",
    "for name, centrality in top_betweenness:\n",
    "    print(f\"{name.title()}: {centrality:.4f}\")"
   ]
  },
  {
   "cell_type": "code",
   "execution_count": null,
   "id": "7ea23dcb",
   "metadata": {},
   "outputs": [],
   "source": [
    "# ============ Figure 6 Ego Network ==============\n",
    "central_person = max(betweenness_centrality, key=betweenness_centrality.get)\n",
    "central_node_degree = G.degree(central_person)\n",
    "all_node_degrees = dict(G.degree())\n",
    "ego_network = nx.ego_graph(G, central_person)\n",
    "ego_network_size = len(ego_network.nodes)"
   ]
  },
  {
   "cell_type": "code",
   "execution_count": null,
   "id": "bbe2e9c7",
   "metadata": {},
   "outputs": [],
   "source": [
    "plt.figure(figsize=(8, 6))\n",
    "pos_ego = nx.spring_layout(ego_network)\n",
    "nx.draw(ego_network, pos_ego, with_labels=True, node_color='lightgreen', edge_color='gray', node_size=300, font_size=8)\n",
    "plt.title(f\"Figure 6: Ego Network of {central_person.title()}\")\n",
    "plt.tight_layout()\n",
    "plt.savefig(\"output/Q1_Output/figure6_ego_network.png\")\n",
    "plt.close()"
   ]
  },
  {
   "cell_type": "code",
   "execution_count": null,
   "id": "85214286",
   "metadata": {},
   "outputs": [],
   "source": [
    "print(f\"The central node is: {central_person.title()}\")\n",
    "print(f\"The degree of the central node is: {central_node_degree}\")\n",
    "print(f\"The number of nodes in the ego network of {central_person.title()} is: {ego_network_size}\")"
   ]
  }
 ],
 "metadata": {
  "jupytext": {
   "cell_metadata_filter": "-all",
   "main_language": "python",
   "notebook_metadata_filter": "-all"
  }
 },
 "nbformat": 4,
 "nbformat_minor": 5
}
